{
  "nbformat": 4,
  "nbformat_minor": 0,
  "metadata": {
    "colab": {
      "provenance": [],
      "collapsed_sections": []
    },
    "kernelspec": {
      "name": "python3",
      "display_name": "Python 3"
    },
    "language_info": {
      "name": "python"
    },
    "accelerator": "GPU"
  },
  "cells": [
    {
      "cell_type": "code",
      "execution_count": 1,
      "metadata": {
        "id": "rs3fYR33Oe39"
      },
      "outputs": [],
      "source": [
        "#import libraries \n",
        "import pandas as pd\n",
        "import numpy as np\n",
        "\n",
        "import seaborn as sns\n",
        "import matplotlib.pyplot as plt "
      ]
    },
    {
      "cell_type": "code",
      "source": [
        "\n",
        "#dados de aprendizagem\n",
        "url='https://github.com/Diegojfsr/RNA_Trabalho_Pratico_I/blob/main/train.csv?raw=true'\n",
        "train = pd.read_csv(url)\n",
        "\n",
        "# remove linhas contendo nan\n",
        "#train.dropna(inplace=True)\n",
        "\n",
        "# dados de teste\n",
        "url='https://github.com/Diegojfsr/RNA_Trabalho_Pratico_I/blob/main/test.csv?raw=true'\n",
        "test = pd.read_csv(url)\n",
        "\n",
        "# Dados de envio\n",
        "url='https://github.com/Diegojfsr/RNA_Trabalho_Pratico_I/blob/main/sample_submission.csv?raw=true'\n",
        "sample_submission = pd.read_csv(url)"
      ],
      "metadata": {
        "id": "-WevydCwXTuQ"
      },
      "execution_count": 82,
      "outputs": []
    },
    {
      "cell_type": "code",
      "source": [
        "display(train) # Exibe o Dataframe"
      ],
      "metadata": {
        "id": "AcUeAtBLXX24"
      },
      "execution_count": null,
      "outputs": []
    },
    {
      "cell_type": "code",
      "source": [
        "print(train.info()) # Exibe Informações do Dataframe"
      ],
      "metadata": {
        "id": "jalVEHUNXcHW"
      },
      "execution_count": null,
      "outputs": []
    },
    {
      "cell_type": "code",
      "source": [
        "### Descobrir se tem valores vazios e a quantidade deles em cada coluna\n",
        "\n",
        "#print(train.isna().any()) # Exibe como True ou False os valores do Dataframe\n",
        "print(train.isna().sum()) # Exibe a soma dos valores no Dataframe"
      ],
      "metadata": {
        "id": "ttlXJZmXXveG"
      },
      "execution_count": null,
      "outputs": []
    },
    {
      "cell_type": "code",
      "source": [
        "############## Tratando variaveis categoricas  ##############\n",
        "\n",
        "#OneHotEncoding\n",
        "\n",
        "!pip install category_encoders"
      ],
      "metadata": {
        "id": "xE7Qkdp2aca3"
      },
      "execution_count": null,
      "outputs": []
    },
    {
      "cell_type": "code",
      "source": [
        "import category_encoders as ce\n",
        "from category_encoders.one_hot import OneHotEncoder, OrdinalEncoder"
      ],
      "metadata": {
        "id": "8k7xeUxgapor"
      },
      "execution_count": 4,
      "outputs": []
    },
    {
      "cell_type": "code",
      "source": [
        "train.head()\n",
        "#train.info(verbose=True)"
      ],
      "metadata": {
        "id": "QJnaTQiObHqw"
      },
      "execution_count": null,
      "outputs": []
    },
    {
      "cell_type": "code",
      "source": [
        "#### Criado um Dataframe com as colunas que seram usadas   \n",
        "####  Deletendo as colunas  \"PassengerId\",\"Name\",\"Transported\"  pois nao serao uteis\n",
        "\n",
        "#dfTrain = train[\"HomePlanet\",\"CryoSleep\", \"Cabin\",\"Destination\",\"Age\",\"VIP\",\"RoomService\",\"FoodCourt\",\"ShoppingMall\",\"Spa\",\"VRDeck\",\"Transported\"]\n",
        "dfTrain = train.drop([\"PassengerId\",\"Name\"], axis = 1)"
      ],
      "metadata": {
        "id": "htJy6Agba_nv"
      },
      "execution_count": 83,
      "outputs": []
    },
    {
      "cell_type": "code",
      "source": [
        "# Converte os valores False e True da Coluna Transported para 0 e 1\n",
        "\n",
        "dfTrain.replace({False: 0, True: 1}, inplace=True)"
      ],
      "metadata": {
        "id": "nTHkq12ADSIc"
      },
      "execution_count": 85,
      "outputs": []
    },
    {
      "cell_type": "code",
      "source": [
        "dfTrain.head()\n",
        "#train.info(verbose=True)"
      ],
      "metadata": {
        "id": "yKttVWewezjx"
      },
      "execution_count": null,
      "outputs": []
    },
    {
      "cell_type": "code",
      "source": [
        "# Converte as demais Colunas para dados Numericos e armazena os valores na variavel OrderEnc\n",
        " # A variavel OrderEnc recebe os dados convertidos de Destination // Converte a coluna Destination\n",
        "\n",
        "OderEnc = OrdinalEncoder(cols =['HomePlanet','CryoSleep','Cabin','Destination','Age','VIP','RoomService','FoodCourt','ShoppingMall','Spa','VRDeck']) "
      ],
      "metadata": {
        "id": "IfdGYbdLfr52"
      },
      "execution_count": 86,
      "outputs": []
    },
    {
      "cell_type": "code",
      "source": [
        "# Faz a junção da coluna convertida com as demais do Dataframe //mas descarta a conversao anterior\n",
        "\n",
        "OderEncFit = OderEnc.fit_transform(dfTrain) "
      ],
      "metadata": {
        "id": "Xuzcp9jwgATV"
      },
      "execution_count": 87,
      "outputs": []
    },
    {
      "cell_type": "code",
      "source": [
        "##### Verificando os valores e colunas #####\n",
        "\n",
        "#print(OderEncFit.isna().any()) # Exibe como True ou False os valores nan do Dataframe\n",
        "#print(OderEncFit.isna().sum()) # Exibe a soma dos valores nan no Dataframe\n",
        "OderEncFit.head()\n",
        "#OderEncFit.info(verbose=True)\n",
        "#print(OderEncFit.info())\n",
        "#OderEncFit.shape\n",
        "#OderEncFit.isna().sum()\n",
        "#OderEncFit.isnull().sum()"
      ],
      "metadata": {
        "id": "jfM1LR7Nf7f3"
      },
      "execution_count": null,
      "outputs": []
    },
    {
      "cell_type": "code",
      "source": [
        "X = OderEncFit.drop([\"Transported\",] , axis = 1)\n",
        "Y = OderEncFit[\"Transported\"]"
      ],
      "metadata": {
        "id": "Pc83zNxlhuGw"
      },
      "execution_count": 88,
      "outputs": []
    },
    {
      "cell_type": "code",
      "source": [
        "X.shape"
      ],
      "metadata": {
        "id": "yZgoSL6cjISM"
      },
      "execution_count": null,
      "outputs": []
    },
    {
      "cell_type": "code",
      "source": [
        "########## Treinando a Rede ##########\n",
        "\n",
        "#https://keras.io/api/  (Keras Documentation)\n",
        "\n",
        "import tensorflow as tf \n",
        "import keras \n",
        "from keras.models import Sequential      #Sequencia entre as camadas: Entrada - Oculta - Saida\n",
        "from keras.layers import Dense, Dropout  #Iremos utilizar camadas densa na rede neural (full-connection) "
      ],
      "metadata": {
        "id": "HuGMFrlwjdWJ"
      },
      "execution_count": 89,
      "outputs": []
    },
    {
      "cell_type": "code",
      "source": [
        "#criar a rede neural sequencial \n",
        "ann = Sequential()\n",
        "\n",
        "#definir as camadas de entrada, oculta \n",
        "ann.add( Dense(units = 6, activation = 'relu', kernel_initializer = 'random_uniform', input_dim=11))  #primeira camada oculta (nr_neuronios_entradas + nr_neuronios_saida / 2) = (30+1 / 2 = 16);  \n",
        "                                                                                                       #input_dim = 30  (número de neuronios da camada de entrada = features de X_train)\n",
        "#definir a camada de saida\n",
        "ann.add(Dense(units = 1, activation = 'sigmoid'))\n",
        "\n",
        "#configurar parâmetros da rede \n",
        "ann.compile(optimizer = 'adam',             #optimizer -> calculo dos ajustes dos pesos (descida do gradiente), calculo do delta\n",
        "            loss='binary_crossentropy',     #loss -> calculo ou tratamento do erro      (binary_crossentropy -> para problemas de classificação binária)\n",
        "            metrics = ['binary_accuracy']   #metrics -> avaliar a metrica do modelo ->   accuracy para problema de classificação binária \n",
        "           )  \n"
      ],
      "metadata": {
        "id": "K2yxVj_ImwDR"
      },
      "execution_count": 90,
      "outputs": []
    },
    {
      "cell_type": "code",
      "source": [
        "#treinar a rede neural\n",
        "ann.fit(X, Y, batch_size = 10, epochs = 50)"
      ],
      "metadata": {
        "id": "8yq5jFENj5pQ"
      },
      "execution_count": null,
      "outputs": []
    },
    {
      "cell_type": "code",
      "source": [
        "#Realizando o calculo do loss e da acuracia da rede \n",
        "\n",
        "result = ann.evaluate(X, Y)"
      ],
      "metadata": {
        "id": "5dpkTtJHpxZo"
      },
      "execution_count": null,
      "outputs": []
    },
    {
      "cell_type": "code",
      "source": [
        "#Realizando as predições no conjunto de treino \n",
        "\n",
        "Ypred = ann.predict(X)  #calcula o valor \n",
        "Ypred"
      ],
      "metadata": {
        "id": "Faj41zrPqJeR"
      },
      "execution_count": null,
      "outputs": []
    },
    {
      "cell_type": "code",
      "source": [
        "YpredBin = np.where(Ypred > 0.5, 1, 0)"
      ],
      "metadata": {
        "id": "Q0EUSUy6fGBw"
      },
      "execution_count": 94,
      "outputs": []
    },
    {
      "cell_type": "code",
      "source": [
        "resultado = pd.DataFrame()"
      ],
      "metadata": {
        "id": "Wpb3QPSDDKre"
      },
      "execution_count": 104,
      "outputs": []
    },
    {
      "cell_type": "code",
      "source": [
        "resultado[\"Y\"] = Y\n",
        "resultado[\"Ypred\"] = Ypred          #valores preditos para o conjunto de treinamento \n",
        "resultado[\"YpredBin\"] = YpredBin\n",
        "resultado.reset_index(inplace = True, drop=True)\n",
        "resultado"
      ],
      "metadata": {
        "id": "obuknbdiqjro"
      },
      "execution_count": null,
      "outputs": []
    },
    {
      "cell_type": "code",
      "source": [
        "resultado"
      ],
      "metadata": {
        "id": "8o_CbSWYnf1S"
      },
      "execution_count": null,
      "outputs": []
    },
    {
      "cell_type": "code",
      "source": [
        "sample_submission"
      ],
      "metadata": {
        "id": "os0lr9QUFzHU"
      },
      "execution_count": null,
      "outputs": []
    },
    {
      "cell_type": "code",
      "source": [],
      "metadata": {
        "id": "By_5CixwOPz8"
      },
      "execution_count": null,
      "outputs": []
    },
    {
      "cell_type": "code",
      "source": [
        "\n",
        "submission2 = sample_submission.drop([\"Transported\"], axis = 1)\n",
        "submission2.dropna(inplace=True)\n",
        "submission2\n",
        "\n"
      ],
      "metadata": {
        "id": "ND_hI9WfFmQn"
      },
      "execution_count": null,
      "outputs": []
    },
    {
      "cell_type": "code",
      "source": [
        "\n",
        "submission3 = resultado.drop([\"Y\",\"Ypred\"], axis = 1)\n",
        "submission3.dropna(inplace=True)\n",
        "submission3.replace({0: False, 1: True}, inplace=True) ### Converte os valores 0/1 em True/False\n",
        "submission3"
      ],
      "metadata": {
        "id": "48IdEOmBHkcQ"
      },
      "execution_count": null,
      "outputs": []
    },
    {
      "cell_type": "code",
      "source": [
        "# append method\n",
        "# result = submission2.append(submission3)\n",
        "# result\n",
        "\n",
        "submission = pd.concat([submission2, submission3], axis=1, join='inner')\n",
        "display(submission)"
      ],
      "metadata": {
        "id": "uzLRvNbpKZJa"
      },
      "execution_count": null,
      "outputs": []
    },
    {
      "cell_type": "code",
      "source": [
        "## Converte o Nome da Coluna YpredBin para Transported\n",
        "\n",
        "submission = submission.rename(columns={'YpredBin': 'Transported'})"
      ],
      "metadata": {
        "id": "ckR70YhhYrLg"
      },
      "execution_count": 160,
      "outputs": []
    },
    {
      "cell_type": "code",
      "source": [
        "submission"
      ],
      "metadata": {
        "id": "ZNHOPL2BKrTO"
      },
      "execution_count": null,
      "outputs": []
    },
    {
      "cell_type": "code",
      "source": [
        "#criar um arquivo csv de saída como submit.csv\n",
        "\n",
        "submission.to_csv(\"submission.csv\", index=False)\n",
        "print('Submission_final.csv foi salvo!')\n",
        "\n",
        "#submit_final.csv foi salvo!"
      ],
      "metadata": {
        "id": "lFAS80k9ZCGe"
      },
      "execution_count": null,
      "outputs": []
    },
    {
      "cell_type": "code",
      "source": [],
      "metadata": {
        "id": "3LZkhX6WZGiM"
      },
      "execution_count": null,
      "outputs": []
    }
  ]
}